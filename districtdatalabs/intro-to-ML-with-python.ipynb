{
 "cells": [
  {
   "cell_type": "markdown",
   "metadata": {},
   "source": [
    "20 MAR 2016<br/>\n",
    "source: [An Introduction to Machine Learning with Python](http://blog.districtdatalabs.com/an-introduction-to-machine-learning-with-python)"
   ]
  },
  {
   "cell_type": "markdown",
   "metadata": {},
   "source": [
    "## The Scikit-learn API"
   ]
  },
  {
   "cell_type": "markdown",
   "metadata": {},
   "source": [
    "The Scikit-learn API is an object-oriented interface centered around the concept of an **`Estimator`** — broadly any object that can learn from data. Each estimator in Scikit-learn has a `fit` and a `predict` method.\n",
    "\n",
    "The **`Estimator.fit`** method sets the state of the estimator based on the training data.\n",
    "\n",
    "**`Estimator.predict`** generates predictions: predicted regression values in the case of regression, or the corresponding class labels in the case of classification.\n",
    "\n",
    "A **`transformer`** is a special type of estimator that transforms input data by selecting a subset of the available features or extracting new features based on the original ones. Transformers can be used to normalize or scale features, or to impute missing values."
   ]
  },
  {
   "cell_type": "markdown",
   "metadata": {},
   "source": [
    "## Models in Scikit-learn"
   ]
  },
  {
   "cell_type": "markdown",
   "metadata": {},
   "source": [
    "### Regression"
   ]
  },
  {
   "cell_type": "code",
   "execution_count": 1,
   "metadata": {
    "collapsed": true
   },
   "outputs": [],
   "source": [
    "from sklearn.datasets import load_diabetes\n",
    "from sklearn.datasets import load_boston\n",
    "\n",
    "diabetes = load_diabetes()\n",
    "boston = load_boston()"
   ]
  },
  {
   "cell_type": "code",
   "execution_count": 2,
   "metadata": {
    "collapsed": false
   },
   "outputs": [
    {
     "name": "stdout",
     "output_type": "stream",
     "text": [
      "dict_keys(['data', 'target'])\n",
      "data shape: (442, 10)\n",
      "target shape: (442,)\n"
     ]
    }
   ],
   "source": [
    "print diabetes.viewkeys()\n",
    "\n",
    "print 'data shape:', diabetes['data'].shape\n",
    "print 'target shape:', diabetes['target'].shape"
   ]
  },
  {
   "cell_type": "code",
   "execution_count": 3,
   "metadata": {
    "collapsed": true
   },
   "outputs": [],
   "source": [
    "from sklearn.metrics import mean_squared_error as mse\n",
    "from sklearn.metrics import r2_score"
   ]
  },
  {
   "cell_type": "markdown",
   "metadata": {},
   "source": [
    "**Mean squared error**, which indicates a regression model’s error in terms of precision (variance) and accuracy (bias), and **coefficient of determination or R2 score** (a ratio of explained variance to total variance), which illustrates how well the prediction fits the data."
   ]
  },
  {
   "cell_type": "markdown",
   "metadata": {},
   "source": [
    "#### Linear Regression"
   ]
  },
  {
   "cell_type": "code",
   "execution_count": 12,
   "metadata": {
    "collapsed": false
   },
   "outputs": [
    {
     "name": "stdout",
     "output_type": "stream",
     "text": [
      "Linear regression model\n",
      "Diabetes dataset\n",
      "Mean squared error = 2859.690\n",
      "R2 score = 0.518\n"
     ]
    }
   ],
   "source": [
    "from sklearn.linear_model import LinearRegression\n",
    "\n",
    "model = LinearRegression()\n",
    "model.fit(diabetes.data, diabetes.target)\n",
    "\n",
    "expected = diabetes.target\n",
    "predicted = model.predict(diabetes.data)\n",
    "\n",
    "print \"Linear regression model\\nDiabetes dataset\"\n",
    "print \"Mean squared error = {:0.3f}\".format(mse(expected, predicted))\n",
    "print \"R2 score = {:0.3f}\".format(r2_score(expected, predicted))"
   ]
  },
  {
   "cell_type": "code",
   "execution_count": 13,
   "metadata": {
    "collapsed": false
   },
   "outputs": [
    {
     "name": "stdout",
     "output_type": "stream",
     "text": [
      "Linear regression model\n",
      "Boston dataset\n",
      "Mean squared error = 21.898\n",
      "R2 score = 0.741\n"
     ]
    }
   ],
   "source": [
    "model.fit(boston.data, boston.target)\n",
    "\n",
    "expected = boston.target\n",
    "predicted = model.predict(boston.data)\n",
    "\n",
    "print \"Linear regression model\\nBoston dataset\"\n",
    "print \"Mean squared error = {:0.3f}\".format(mse(expected, predicted))\n",
    "print \"R2 score = {:0.3f}\".format(r2_score(expected, predicted))"
   ]
  },
  {
   "cell_type": "markdown",
   "metadata": {},
   "source": [
    "#### Regularization: Ridge Regression\n",
    "\n",
    "*Regularization* methods penalize the complexity of a model to limit overfitting and help with generalization. Compared to a standard linear regression, the slope will tend to be more stable and the variance smaller."
   ]
  },
  {
   "cell_type": "code",
   "execution_count": 14,
   "metadata": {
    "collapsed": false
   },
   "outputs": [
    {
     "name": "stdout",
     "output_type": "stream",
     "text": [
      "Ridge regression model\n",
      "Diabetes dataset\n",
      "Mean squared error = 2890.445\n",
      "R2 score = 0.513\n"
     ]
    }
   ],
   "source": [
    "from sklearn.linear_model import Ridge\n",
    "\n",
    "model = Ridge(alpha=0.1)\n",
    "model.fit(diabetes.data, diabetes.target)\n",
    "\n",
    "expected = diabetes.target\n",
    "predicted = model.predict(diabetes.data)\n",
    "\n",
    "print \"Ridge regression model\\nDiabetes dataset\"\n",
    "print \"Mean squared error = {:0.3f}\".format(mse(expected, predicted))\n",
    "print \"R2 score = {:0.3f}\".format(r2_score(expected, predicted))"
   ]
  },
  {
   "cell_type": "code",
   "execution_count": 15,
   "metadata": {
    "collapsed": false
   },
   "outputs": [
    {
     "name": "stdout",
     "output_type": "stream",
     "text": [
      "Ridge regression model\n",
      "Boston dataset\n",
      "Mean squared error = 21.901\n",
      "R2 score = 0.741\n"
     ]
    }
   ],
   "source": [
    "model.fit(boston.data, boston.target)\n",
    "\n",
    "expected = boston.target\n",
    "predicted = model.predict(boston.data)\n",
    "\n",
    "print \"Ridge regression model\\nBoston dataset\"\n",
    "print \"Mean squared error = {:0.3f}\".format(mse(expected, predicted))\n",
    "print \"R2 score = {:0.3f}\".format(r2_score(expected, predicted))"
   ]
  },
  {
   "cell_type": "markdown",
   "metadata": {},
   "source": [
    "#### Random Forest"
   ]
  },
  {
   "cell_type": "code",
   "execution_count": 16,
   "metadata": {
    "collapsed": false
   },
   "outputs": [
    {
     "name": "stdout",
     "output_type": "stream",
     "text": [
      "Random forest model\n",
      "Diabetes dataset\n",
      "Mean squared error = 605.153\n",
      "R2 score = 0.898\n"
     ]
    }
   ],
   "source": [
    "from sklearn.ensemble import RandomForestRegressor\n",
    "\n",
    "model = RandomForestRegressor()\n",
    "model.fit(diabetes.data, diabetes.target)\n",
    "\n",
    "expected = diabetes.target\n",
    "predicted = model.predict(diabetes.data)\n",
    "\n",
    "print \"Random forest model\\nDiabetes dataset\"\n",
    "print \"Mean squared error = {:0.3f}\".format(mse(expected, predicted))\n",
    "print \"R2 score = {:0.3f}\".format(r2_score(expected, predicted))"
   ]
  },
  {
   "cell_type": "code",
   "execution_count": 18,
   "metadata": {
    "collapsed": false
   },
   "outputs": [
    {
     "name": "stdout",
     "output_type": "stream",
     "text": [
      "Random forest model\n",
      "Boston dataset\n",
      "Mean squared error = 1.703\n",
      "R2 score = 0.980\n"
     ]
    }
   ],
   "source": [
    "model.fit(boston.data, boston.target)\n",
    "\n",
    "expected = boston.target\n",
    "predicted = model.predict(boston.data)\n",
    "\n",
    "print \"Random forest model\\nBoston dataset\"\n",
    "print \"Mean squared error = {:0.3f}\".format(mse(expected, predicted))\n",
    "print \"R2 score = {:0.3f}\".format(r2_score(expected, predicted))"
   ]
  },
  {
   "cell_type": "markdown",
   "metadata": {},
   "source": [
    "### Classification"
   ]
  },
  {
   "cell_type": "code",
   "execution_count": 4,
   "metadata": {
    "collapsed": false
   },
   "outputs": [],
   "source": [
    "import pandas as pd\n",
    "import requests"
   ]
  },
  {
   "cell_type": "code",
   "execution_count": 5,
   "metadata": {
    "collapsed": true
   },
   "outputs": [],
   "source": [
    "URL = \"https://archive.ics.uci.edu/ml/machine-learning-databases/haberman/haberman.data\"\n",
    "response = requests.get(URL)"
   ]
  },
  {
   "cell_type": "code",
   "execution_count": 7,
   "metadata": {
    "collapsed": false
   },
   "outputs": [
    {
     "data": {
      "text/plain": [
       "u'30,64,1,1\\n30,62,3,1\\n30,65,0,1\\n31,59,2,1\\n31,65,4,1\\n33,58,10,1\\n33,60,0,1\\n34,59,0,2\\n34,66,9,2\\n34,58,30,'"
      ]
     },
     "execution_count": 7,
     "metadata": {},
     "output_type": "execute_result"
    }
   ],
   "source": [
    "response.text[:100]"
   ]
  },
  {
   "cell_type": "code",
   "execution_count": 9,
   "metadata": {
    "collapsed": false
   },
   "outputs": [
    {
     "data": {
      "text/plain": [
       "'30,64,1,1\\n30,62,3,1\\n30,65,0,1\\n31,59,2,1\\n31,65,4,1\\n33,58,10,1\\n33,60,0,1\\n34,59,0,2\\n34,66,9,2\\n34,58,30,'"
      ]
     },
     "execution_count": 9,
     "metadata": {},
     "output_type": "execute_result"
    }
   ],
   "source": [
    "response.content[:100]"
   ]
  },
  {
   "cell_type": "markdown",
   "metadata": {},
   "source": [
    "`r.text` is the content of the response in unicode, and `r.content` is the content of the response in bytes."
   ]
  },
  {
   "cell_type": "code",
   "execution_count": 10,
   "metadata": {
    "collapsed": false
   },
   "outputs": [
    {
     "name": "stdout",
     "output_type": "stream",
     "text": [
      "text type: <type 'unicode'>\n",
      "content type: <type 'str'>\n"
     ]
    }
   ],
   "source": [
    "print 'text type:', type(response.text)\n",
    "print 'content type:', type(response.content)"
   ]
  },
  {
   "cell_type": "code",
   "execution_count": 11,
   "metadata": {
    "collapsed": true
   },
   "outputs": [],
   "source": [
    "with open('in/haberman.csv', 'w') as f:\n",
    "    f.write(response.content)"
   ]
  },
  {
   "cell_type": "code",
   "execution_count": 12,
   "metadata": {
    "collapsed": false
   },
   "outputs": [
    {
     "data": {
      "text/html": [
       "<div>\n",
       "<table border=\"1\" class=\"dataframe\">\n",
       "  <thead>\n",
       "    <tr style=\"text-align: right;\">\n",
       "      <th></th>\n",
       "      <th>age_at_op</th>\n",
       "      <th>op_yr</th>\n",
       "      <th>nr_nodes</th>\n",
       "      <th>survival</th>\n",
       "    </tr>\n",
       "  </thead>\n",
       "  <tbody>\n",
       "    <tr>\n",
       "      <th>0</th>\n",
       "      <td>30</td>\n",
       "      <td>64</td>\n",
       "      <td>1</td>\n",
       "      <td>1</td>\n",
       "    </tr>\n",
       "    <tr>\n",
       "      <th>1</th>\n",
       "      <td>30</td>\n",
       "      <td>62</td>\n",
       "      <td>3</td>\n",
       "      <td>1</td>\n",
       "    </tr>\n",
       "    <tr>\n",
       "      <th>2</th>\n",
       "      <td>30</td>\n",
       "      <td>65</td>\n",
       "      <td>0</td>\n",
       "      <td>1</td>\n",
       "    </tr>\n",
       "    <tr>\n",
       "      <th>3</th>\n",
       "      <td>31</td>\n",
       "      <td>59</td>\n",
       "      <td>2</td>\n",
       "      <td>1</td>\n",
       "    </tr>\n",
       "    <tr>\n",
       "      <th>4</th>\n",
       "      <td>31</td>\n",
       "      <td>65</td>\n",
       "      <td>4</td>\n",
       "      <td>1</td>\n",
       "    </tr>\n",
       "  </tbody>\n",
       "</table>\n",
       "</div>"
      ],
      "text/plain": [
       "   age_at_op  op_yr  nr_nodes  survival\n",
       "0         30     64         1         1\n",
       "1         30     62         3         1\n",
       "2         30     65         0         1\n",
       "3         31     59         2         1\n",
       "4         31     65         4         1"
      ]
     },
     "execution_count": 12,
     "metadata": {},
     "output_type": "execute_result"
    }
   ],
   "source": [
    "df = pd.read_csv('in/haberman.csv', header=None, names=[\"age_at_op\",\"op_yr\",\"nr_nodes\",\"survival\"])\n",
    "\n",
    "df.head()"
   ]
  },
  {
   "cell_type": "code",
   "execution_count": 13,
   "metadata": {
    "collapsed": false
   },
   "outputs": [
    {
     "name": "stdout",
     "output_type": "stream",
     "text": [
      "<class 'pandas.core.frame.DataFrame'>\n",
      "RangeIndex: 306 entries, 0 to 305\n",
      "Data columns (total 4 columns):\n",
      "age_at_op    306 non-null int64\n",
      "op_yr        306 non-null int64\n",
      "nr_nodes     306 non-null int64\n",
      "survival     306 non-null int64\n",
      "dtypes: int64(4)\n",
      "memory usage: 9.6 KB\n"
     ]
    }
   ],
   "source": [
    "df.info()"
   ]
  },
  {
   "cell_type": "code",
   "execution_count": 14,
   "metadata": {
    "collapsed": true
   },
   "outputs": [],
   "source": [
    "FEATURES = df[[\"age_at_op\",\"op_yr\",\"nr_nodes\"]]\n",
    "TARGETS = df[[\"survival\"]]"
   ]
  },
  {
   "cell_type": "markdown",
   "metadata": {},
   "source": [
    "#### A Word on Cross-Validation"
   ]
  },
  {
   "cell_type": "markdown",
   "metadata": {},
   "source": [
    "In *supervised machine learning*, data are divided into training and test sets. But what if certain chunks of the data have more variance than others? It's important to get into the habit of using cross validation (we like to **use 12 folds**) to ensure that your models perform just as well regardless of the particular way the data are divided up."
   ]
  },
  {
   "cell_type": "code",
   "execution_count": 15,
   "metadata": {
    "collapsed": true
   },
   "outputs": [],
   "source": [
    "from sklearn import cross_validation as cv\n",
    "\n",
    "splits = cv.train_test_split(FEATURES, TARGETS, test_size=0.2)\n",
    "X_train, X_test, y_train, y_test = splits"
   ]
  },
  {
   "cell_type": "code",
   "execution_count": 16,
   "metadata": {
    "collapsed": true
   },
   "outputs": [],
   "source": [
    "from sklearn.metrics import classification_report"
   ]
  },
  {
   "cell_type": "markdown",
   "metadata": {},
   "source": [
    "The `classification_report` will give us the precision, accuracy and recall scores for each classifier.\n",
    "\n",
    "**Precision** is the number of correct positive results divided by the number of all positive results.<br/>\n",
    "**Recall** is the number of correct positive results divided by the number of positive results that should have been returned.<br/>\n",
    "The **F1 score** is a measure of a test's accuracy. It considers both the precision and the recall of the test to compute the score. The F1 score can be interpreted as a weighted average of the precision and recall, where an F1 score reaches its best value at 1 and worst at 0.\n",
    "\n",
    "Metric | Equation | Interpretation\n",
    "--- | --- | ---\n",
    "precision | = true positives / (true positives + false positives) | positive predictive value\n",
    "recall | = true positives / (false negatives + true positives) | sensitivity\n",
    "F1 score | = 2 * ((precision * recall) / (precision + recall)) | accuracy"
   ]
  },
  {
   "cell_type": "markdown",
   "metadata": {},
   "source": [
    "#### Logistic Regression"
   ]
  },
  {
   "cell_type": "code",
   "execution_count": 25,
   "metadata": {
    "collapsed": false
   },
   "outputs": [
    {
     "name": "stdout",
     "output_type": "stream",
     "text": [
      "Logistic Regression Classifier\n",
      "Haberman survival dataset\n",
      "             precision    recall  f1-score   support\n",
      "\n",
      "  >=5 years       0.71      0.95      0.82        44\n",
      "   <5 years       0.33      0.06      0.10        18\n",
      "\n",
      "avg / total       0.60      0.69      0.61        62\n",
      "\n"
     ]
    }
   ],
   "source": [
    "from sklearn.linear_model import LogisticRegression\n",
    "\n",
    "model = LogisticRegression()\n",
    "model.fit(X_train, y_train.values.ravel())\n",
    "\n",
    "expected = y_test\n",
    "predicted = model.predict(X_test)\n",
    "\n",
    "print \"Logistic Regression Classifier\\nHaberman survival dataset\"\n",
    "print classification_report(expected, predicted, target_names=[\">=5 years\",\"<5 years\"])"
   ]
  },
  {
   "cell_type": "markdown",
   "metadata": {},
   "source": [
    "#### SVMs"
   ]
  },
  {
   "cell_type": "code",
   "execution_count": 26,
   "metadata": {
    "collapsed": false
   },
   "outputs": [
    {
     "name": "stdout",
     "output_type": "stream",
     "text": [
      "Support Vector Machine Classifier\n",
      "Haberman survival dataset\n",
      "             precision    recall  f1-score   support\n",
      "\n",
      "  >=5 years       0.72      1.00      0.84        44\n",
      "   <5 years       1.00      0.06      0.11        18\n",
      "\n",
      "avg / total       0.80      0.73      0.63        62\n",
      "\n"
     ]
    }
   ],
   "source": [
    "from sklearn.svm import SVC\n",
    "\n",
    "model = SVC() # The default parameters for SVC are a radial basis function kernel of degree 3\n",
    "model.fit(X_train, y_train.values.ravel())\n",
    "\n",
    "expected = y_test\n",
    "predicted = model.predict(X_test)\n",
    "\n",
    "print \"Support Vector Machine Classifier\\nHaberman survival dataset\"\n",
    "print classification_report(expected, predicted, target_names=[\">=5 years\",\"<5 years\"])"
   ]
  },
  {
   "cell_type": "code",
   "execution_count": 27,
   "metadata": {
    "collapsed": false
   },
   "outputs": [
    {
     "name": "stdout",
     "output_type": "stream",
     "text": [
      "Random Forest Classifier\n",
      "Haberman survival dataset\n",
      "             precision    recall  f1-score   support\n",
      "\n",
      "  >=5 years       0.72      0.82      0.77        44\n",
      "   <5 years       0.33      0.22      0.27        18\n",
      "\n",
      "avg / total       0.61      0.65      0.62        62\n",
      "\n"
     ]
    }
   ],
   "source": [
    "from sklearn.ensemble import RandomForestClassifier\n",
    "\n",
    "model = RandomForestClassifier()\n",
    "model.fit(X_train, y_train.values.ravel())\n",
    "\n",
    "expected = y_test\n",
    "predicted = model.predict(X_test)\n",
    "\n",
    "print \"Random Forest Classifier\\nHaberman survival dataset\"\n",
    "print classification_report(expected, predicted, target_names=[\">=5 years\",\"<5 years\"])"
   ]
  },
  {
   "cell_type": "markdown",
   "metadata": {},
   "source": [
    "### Clustering"
   ]
  },
  {
   "cell_type": "markdown",
   "metadata": {},
   "source": [
    "Clustering algorithms attempt to find patterns in unlabeled data. They are usually grouped into two main categories: *centroidal* (to find the centers of clusters) and *hierarchical* (to find clusters of clusters).\n",
    "\n",
    "In order to explore clustering, let's pull another dataset from the UCI repository, this one on [grocery store customer spending behavior](https://archive.ics.uci.edu/ml/datasets/Wholesale+customers):"
   ]
  },
  {
   "cell_type": "code",
   "execution_count": 29,
   "metadata": {
    "collapsed": false
   },
   "outputs": [
    {
     "data": {
      "text/html": [
       "<div>\n",
       "<table border=\"1\" class=\"dataframe\">\n",
       "  <thead>\n",
       "    <tr style=\"text-align: right;\">\n",
       "      <th></th>\n",
       "      <th>Fresh</th>\n",
       "      <th>Milk</th>\n",
       "      <th>Grocery</th>\n",
       "      <th>Frozen</th>\n",
       "      <th>Detergents_Paper</th>\n",
       "      <th>Delicassen</th>\n",
       "    </tr>\n",
       "  </thead>\n",
       "  <tbody>\n",
       "    <tr>\n",
       "      <th>0</th>\n",
       "      <td>12669</td>\n",
       "      <td>9656</td>\n",
       "      <td>7561</td>\n",
       "      <td>214</td>\n",
       "      <td>2674</td>\n",
       "      <td>1338</td>\n",
       "    </tr>\n",
       "    <tr>\n",
       "      <th>1</th>\n",
       "      <td>7057</td>\n",
       "      <td>9810</td>\n",
       "      <td>9568</td>\n",
       "      <td>1762</td>\n",
       "      <td>3293</td>\n",
       "      <td>1776</td>\n",
       "    </tr>\n",
       "    <tr>\n",
       "      <th>2</th>\n",
       "      <td>6353</td>\n",
       "      <td>8808</td>\n",
       "      <td>7684</td>\n",
       "      <td>2405</td>\n",
       "      <td>3516</td>\n",
       "      <td>7844</td>\n",
       "    </tr>\n",
       "    <tr>\n",
       "      <th>3</th>\n",
       "      <td>13265</td>\n",
       "      <td>1196</td>\n",
       "      <td>4221</td>\n",
       "      <td>6404</td>\n",
       "      <td>507</td>\n",
       "      <td>1788</td>\n",
       "    </tr>\n",
       "    <tr>\n",
       "      <th>4</th>\n",
       "      <td>22615</td>\n",
       "      <td>5410</td>\n",
       "      <td>7198</td>\n",
       "      <td>3915</td>\n",
       "      <td>1777</td>\n",
       "      <td>5185</td>\n",
       "    </tr>\n",
       "  </tbody>\n",
       "</table>\n",
       "</div>"
      ],
      "text/plain": [
       "   Fresh  Milk  Grocery  Frozen  Detergents_Paper  Delicassen\n",
       "0  12669  9656     7561     214              2674        1338\n",
       "1   7057  9810     9568    1762              3293        1776\n",
       "2   6353  8808     7684    2405              3516        7844\n",
       "3  13265  1196     4221    6404               507        1788\n",
       "4  22615  5410     7198    3915              1777        5185"
      ]
     },
     "execution_count": 29,
     "metadata": {},
     "output_type": "execute_result"
    }
   ],
   "source": [
    "URL = \"https://archive.ics.uci.edu/ml/machine-learning-databases/00292/Wholesale%20customers%20data.csv\"\n",
    "response = requests.get(URL)\n",
    "with open('in/customers.csv', 'w') as f:\n",
    "    f.write(response.content)\n",
    "\n",
    "df = pd.read_csv('in/customers.csv', usecols=[\"Fresh\",\"Milk\",\"Grocery\",\"Frozen\",\"Detergents_Paper\",\"Delicassen\"])\n",
    "\n",
    "df.head()"
   ]
  },
  {
   "cell_type": "markdown",
   "metadata": {},
   "source": [
    "#### K-Means Clustering"
   ]
  },
  {
   "cell_type": "code",
   "execution_count": 30,
   "metadata": {
    "collapsed": false
   },
   "outputs": [
    {
     "data": {
      "text/plain": [
       "array([[12669,  9656,  7561,   214,  2674,  1338],\n",
       "       [ 7057,  9810,  9568,  1762,  3293,  1776],\n",
       "       [ 6353,  8808,  7684,  2405,  3516,  7844],\n",
       "       ..., \n",
       "       [14531, 15488, 30243,   437, 14841,  1867],\n",
       "       [10290,  1981,  2232,  1038,   168,  2125],\n",
       "       [ 2787,  1698,  2510,    65,   477,    52]])"
      ]
     },
     "execution_count": 30,
     "metadata": {},
     "output_type": "execute_result"
    }
   ],
   "source": [
    "df.values"
   ]
  },
  {
   "cell_type": "code",
   "execution_count": 31,
   "metadata": {
    "collapsed": true
   },
   "outputs": [],
   "source": [
    "from sklearn.cluster import KMeans\n",
    "\n",
    "data = df.values\n",
    "model = KMeans(n_clusters=7)\n",
    "model.fit(data)\n",
    "\n",
    "labels = model.labels_\n",
    "centroids = model.cluster_centers_"
   ]
  },
  {
   "cell_type": "code",
   "execution_count": 37,
   "metadata": {
    "collapsed": false
   },
   "outputs": [
    {
     "data": {
      "text/plain": [
       "(440, 6)"
      ]
     },
     "execution_count": 37,
     "metadata": {},
     "output_type": "execute_result"
    }
   ],
   "source": [
    "data.shape"
   ]
  },
  {
   "cell_type": "code",
   "execution_count": 38,
   "metadata": {
    "collapsed": false
   },
   "outputs": [
    {
     "data": {
      "text/plain": [
       "(440,)"
      ]
     },
     "execution_count": 38,
     "metadata": {},
     "output_type": "execute_result"
    }
   ],
   "source": [
    "labels.shape"
   ]
  },
  {
   "cell_type": "code",
   "execution_count": 32,
   "metadata": {
    "collapsed": false
   },
   "outputs": [
    {
     "data": {
      "text/plain": [
       "7"
      ]
     },
     "execution_count": 32,
     "metadata": {},
     "output_type": "execute_result"
    }
   ],
   "source": [
    "len(centroids)"
   ]
  },
  {
   "cell_type": "code",
   "execution_count": 39,
   "metadata": {
    "collapsed": false
   },
   "outputs": [
    {
     "data": {
      "text/plain": [
       "array([[ 21855.63265306,   4023.68367347,   5327.81632653,   3962.70408163,\n",
       "          1169.25510204,   1742.95918367],\n",
       "       [  6264.89473684,  17153.57894737,  24637.76315789,   2132.86842105,\n",
       "         10733.23684211,   2420.97368421],\n",
       "       [  4193.5       ,   7703.03333333,  11501.64444444,   1250.77777778,\n",
       "          4991.32222222,   1351.04444444],\n",
       "       [ 25603.        ,  43460.6       ,  61472.2       ,   2636.        ,\n",
       "         29974.2       ,   2708.8       ],\n",
       "       [ 50716.33333333,   4581.        ,   5332.85714286,   5948.42857143,\n",
       "           969.52380952,   2441.66666667],\n",
       "       [  6775.13978495,   2347.79032258,   2967.23655914,   2871.96774194,\n",
       "           669.06451613,    904.14516129],\n",
       "       [ 34782.        ,  30367.        ,  16898.        ,  48701.5       ,\n",
       "           755.5       ,  26776.        ]])"
      ]
     },
     "execution_count": 39,
     "metadata": {},
     "output_type": "execute_result"
    }
   ],
   "source": [
    "centroids"
   ]
  },
  {
   "cell_type": "markdown",
   "metadata": {},
   "source": [
    "Plot the results:"
   ]
  },
  {
   "cell_type": "code",
   "execution_count": 34,
   "metadata": {
    "collapsed": true
   },
   "outputs": [],
   "source": [
    "import matplotlib.pyplot as plt\n",
    "import numpy as np\n",
    "\n",
    "%matplotlib inline"
   ]
  },
  {
   "cell_type": "code",
   "execution_count": 40,
   "metadata": {
    "collapsed": false
   },
   "outputs": [
    {
     "data": {
      "image/png": "[encoded data removed]",
      "text/plain": [
       "<matplotlib.figure.Figure at 0x112aaf4d0>"
      ]
     },
     "metadata": {},
     "output_type": "display_data"
    }
   ],
   "source": [
    "for i in range(len(centroids)):\n",
    "    # Plot the points. Hint: Try using principal component analysis (PCA) to narrow down features.\n",
    "    datapoints = data[np.where(labels==i)]\n",
    "    plt.plot(datapoints[:,3], datapoints[:,4],'k.')  # Frozen, Detergents_Paper\n",
    "    \n",
    "    # Plot the centroids.\n",
    "    centers = plt.plot(centroids[i,3], centroids[i,4],'x')\n",
    "    plt.setp(centers, markersize=20.0)\n",
    "    plt.setp(centers, markeredgewidth=5.0)\n",
    "\n",
    "plt.xlim([0,10000])\n",
    "plt.ylim([0,15000])\n",
    "plt.show();"
   ]
  },
  {
   "cell_type": "markdown",
   "metadata": {},
   "source": [
    "Note: we've zoomed in our axes, leaving out some outlier points and two centroids."
   ]
  }
 ],
 "metadata": {
  "kernelspec": {
   "display_name": "Python 2",
   "language": "python",
   "name": "python2"
  },
  "language_info": {
   "codemirror_mode": {
    "name": "ipython",
    "version": 2
   },
   "file_extension": ".py",
   "mimetype": "text/x-python",
   "name": "python",
   "nbconvert_exporter": "python",
   "pygments_lexer": "ipython2",
   "version": "2.7.11"
  }
 },
 "nbformat": 4,
 "nbformat_minor": 0
}
